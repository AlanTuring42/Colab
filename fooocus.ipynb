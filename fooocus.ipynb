{
  "nbformat": 4,
  "nbformat_minor": 0,
  "metadata": {
    "colab": {
      "provenance": [],
      "gpuType": "T4",
      "include_colab_link": true
    },
    "kernelspec": {
      "name": "python3",
      "display_name": "Python 3"
    },
    "language_info": {
      "name": "python"
    },
    "accelerator": "GPU"
  },
  "cells": [
    {
      "cell_type": "markdown",
      "metadata": {
        "id": "view-in-github",
        "colab_type": "text"
      },
      "source": [
        "<a href=\"https://colab.research.google.com/github/AlanTuring42/Colab/blob/main/fooocus.ipynb\" target=\"_parent\"><img src=\"https://colab.research.google.com/assets/colab-badge.svg\" alt=\"Open In Colab\"/></a>"
      ]
    },
    {
      "cell_type": "code",
      "execution_count": null,
      "metadata": {
        "id": "VjYy0F2gZIPR"
      },
      "outputs": [],
      "source": [
        "!pip install pygit2==1.12.2\n",
        "%cd /content\n",
        "!git clone https://github.com/lllyasviel/Fooocus.git\n",
        "\n",
        "!wget \"https://huggingface.co/AlanTuring42/My_Model_Collection/resolve/main/Crystal_Clear_XL.safetensors?download=true\" -O /content/Fooocus/models/checkpoints/Crystal_Clear_XL.safetensors\n",
        "!wget \"https://huggingface.co/AlanTuring42/My_Model_Collection/resolve/main/Better_than_words.safetensors?download=true\" -O /content/Fooocus/models/checkpoints/Better_than_words.safetensors\n",
        "!wget \"https://huggingface.co/AlanTuring42/My_Model_Collection/resolve/main/RealVisXL.safetensors?download=true\" -O /content/Fooocus/models/checkpoints/RealVisXL.safetensors\n",
        "!wget \"https://huggingface.co/AlanTuring42/My_Model_Collection/resolve/main/NewRealityXL.safetensors?download=true\" -O /content/Fooocus/models/checkpoints/NewRealityXL.safetensors\n",
        "!wget \"https://huggingface.co/AlanTuring42/My_Model_Collection/resolve/main/WyvernMix.safetensors?download=true\" -O /content/Fooocus/models/checkpoints/WyvernMix.safetensors\n",
        "!wget \"https://huggingface.co/AlanTuring42/My_Model_Collection/resolve/main/Juggernaut_XL.safetensors?download=true\" -O /content/Fooocus/models/checkpoints/Juggernaut_XL.safetensors\n",
        "\n",
        "%cd /content/Fooocus\n",
        "!pip install pyngrok\n",
        "from pyngrok import ngrok\n",
        "ngrok.set_auth_token('Put_your_ngrok_auth_token_here')\n",
        "url = ngrok.connect(7865)\n",
        "from IPython.display import clear_output\n",
        "clear_output()\n",
        "print('Public URL:', url)\n",
        "!python entry_with_update.py --always-high-vram"
      ]
    }
  ]
}
