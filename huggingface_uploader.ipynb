{
  "nbformat": 4,
  "nbformat_minor": 0,
  "metadata": {
    "colab": {
      "provenance": [],
      "include_colab_link": true
    },
    "kernelspec": {
      "name": "python3",
      "display_name": "Python 3"
    },
    "language_info": {
      "name": "python"
    }
  },
  "cells": [
    {
      "cell_type": "markdown",
      "metadata": {
        "id": "view-in-github",
        "colab_type": "text"
      },
      "source": [
        "<a href=\"https://colab.research.google.com/github/AlanTuring42/Colab/blob/main/huggingface_uploader.ipynb\" target=\"_parent\"><img src=\"https://colab.research.google.com/assets/colab-badge.svg\" alt=\"Open In Colab\"/></a>"
      ]
    },
    {
      "cell_type": "code",
      "execution_count": null,
      "metadata": {
        "id": "XftndZvSEz8R"
      },
      "outputs": [],
      "source": [
        "from huggingface_hub import login\n",
        "# Login\n",
        "login(token=\"Put_Your_Login_Token_Here\")\n",
        "from huggingface_hub import whoami\n",
        "# Check username\n",
        "username = whoami()\n",
        "print(username)"
      ]
    },
    {
      "cell_type": "code",
      "source": [
        "%cd /content\n",
        "!wget \"https://civitai.com/api/download/models/275488?type=Model&format=SafeTensor&size=full&fp=fp16\" -O /content/NewRealityXL.safetensors\n",
        "\n",
        "from huggingface_hub import HfApi\n",
        "# Initialize HfApi\n",
        "api = HfApi()\n",
        "# Upload file\n",
        "api.upload_file(\n",
        "    path_or_fileobj=\"/content/NewRealityXL.safetensors\",  # your local file path\n",
        "    path_in_repo=\"NewRealityXL.safetensors\",  # the path in the repository where you want to upload the file\n",
        "    repo_id=\"AlanTuring42/My_Model_Collection\",  # your username and repository name\n",
        "    repo_type=\"model\"  # your repository type\n",
        ")"
      ],
      "metadata": {
        "id": "btEVEEPMbbfu"
      },
      "execution_count": null,
      "outputs": []
    },
    {
      "cell_type": "code",
      "source": [
        "from huggingface_hub import HfApi\n",
        "# Initialize HfApi\n",
        "api = HfApi()\n",
        "# Delete file\n",
        "api.delete_file(\n",
        "    path_in_repo=\"NewRealityXL.safetensors\",  # the path in the repository where you want to upload the file\n",
        "    repo_id=\"AlanTuring42/My_Model_Collection\",  # your username and repository name\n",
        "    repo_type=\"model\"  # your repository type\n",
        ")"
      ],
      "metadata": {
        "id": "oUK3mt8fbSo9"
      },
      "execution_count": null,
      "outputs": []
    }
  ]
}
