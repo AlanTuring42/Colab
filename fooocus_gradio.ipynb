{
  "nbformat": 4,
  "nbformat_minor": 0,
  "metadata": {
    "colab": {
      "provenance": [],
      "gpuType": "T4",
      "include_colab_link": true
    },
    "kernelspec": {
      "name": "python3",
      "display_name": "Python 3"
    },
    "language_info": {
      "name": "python"
    },
    "accelerator": "GPU"
  },
  "cells": [
    {
      "cell_type": "markdown",
      "metadata": {
        "id": "view-in-github",
        "colab_type": "text"
      },
      "source": [
        "<a href=\"https://colab.research.google.com/github/AlanTuring42/Colab-Notebook/blob/main/fooocus_gradio.ipynb\" target=\"_parent\"><img src=\"https://colab.research.google.com/assets/colab-badge.svg\" alt=\"Open In Colab\"/></a>"
      ]
    },
    {
      "cell_type": "code",
      "execution_count": null,
      "metadata": {
        "id": "VjYy0F2gZIPR"
      },
      "outputs": [],
      "source": [
        "!pip install pygit2==1.12.2\n",
        "!pip install pyngrok\n",
        "%cd /content\n",
        "!git clone https://github.com/lllyasviel/Fooocus.git\n",
        "\n",
        "!wget \"https://huggingface.co/AlanTuring42/My_Model_Collection/resolve/main/Crystal_Clear_XL.safetensors?download=true\" -O /content/Fooocus/models/checkpoints/Crystal_Clear_XL.safetensors\n",
        "!wget \"https://huggingface.co/AlanTuring42/My_Model_Collection/resolve/main/Better_than_words.safetensors?download=true\" -O /content/Fooocus/models/checkpoints/Better_than_words.safetensors\n",
        "!wget \"https://huggingface.co/AlanTuring42/My_Model_Collection/resolve/main/RealVisXL_V3.0.safetensors?download=true\" -O /content/Fooocus/models/checkpoints/RealVisXL_V3.0.safetensors\n",
        "!wget \"https://huggingface.co/AlanTuring42/My_Model_Collection/resolve/main/NewRealityXL.safetensors?download=true\" -O /content/Fooocus/models/checkpoints/NewRealityXL.safetensors\n",
        "!wget \"https://huggingface.co/AlanTuring42/My_Model_Collection/resolve/main/realistic_stock_photo.safetensors?download=true\" -O /content/Fooocus/models/checkpoints/realistic_stock_photo.safetensors\n",
        "\n",
        "%cd /content/Fooocus\n",
        "from IPython.display import clear_output\n",
        "clear_output()\n",
        "!python entry_with_update.py --always-high-vram --share"
      ]
    }
  ]
}
